{
 "cells": [
  {
   "cell_type": "markdown",
   "id": "fae09ce8",
   "metadata": {},
   "source": [
    "# PW SKILLS"
   ]
  },
  {
   "cell_type": "markdown",
   "id": "92f41ee5",
   "metadata": {},
   "source": [
    "## Assignment Questions "
   ]
  },
  {
   "cell_type": "markdown",
   "id": "a47bb239",
   "metadata": {},
   "source": [
    "### Q1. Pearson correlation coefficient is a measure of the linear relationship between two variables. Suppose you have collected data on the amount of time students spend studying for an exam and their final exam scores. Calculate the Pearson correlation coefficient between these two variables and interpret the result.\n",
    "### Answer : "
   ]
  },
  {
   "cell_type": "markdown",
   "id": "5c2d397a",
   "metadata": {},
   "source": [
    "To calculate the Pearson correlation coefficient between two variables, you can use the following formula:\n",
    "\n",
    "Pearson correlation coefficient\n",
    "(\n",
    "�\n",
    ")\n",
    "=\n",
    "∑\n",
    "(\n",
    "�\n",
    "�\n",
    "−\n",
    "�\n",
    "ˉ\n",
    ")\n",
    "(\n",
    "�\n",
    "�\n",
    "−\n",
    "�\n",
    "ˉ\n",
    ")\n",
    "∑\n",
    "(\n",
    "�\n",
    "�\n",
    "−\n",
    "�\n",
    "ˉ\n",
    ")\n",
    "2\n",
    "∑\n",
    "(\n",
    "�\n",
    "�\n",
    "−\n",
    "�\n",
    "ˉ\n",
    ")\n",
    "2\n",
    "Pearson correlation coefficient(r)= \n",
    "∑(X \n",
    "i\n",
    "​\n",
    " − \n",
    "X\n",
    "ˉ\n",
    " ) \n",
    "2\n",
    " ∑(Y \n",
    "i\n",
    "​\n",
    " − \n",
    "Y\n",
    "ˉ\n",
    " ) \n",
    "2\n",
    " \n",
    "​\n",
    " \n",
    "∑(X \n",
    "i\n",
    "​\n",
    " − \n",
    "X\n",
    "ˉ\n",
    " )(Y \n",
    "i\n",
    "​\n",
    " − \n",
    "Y\n",
    "ˉ\n",
    " )\n",
    "​\n",
    " \n",
    "\n",
    "Where:\n",
    "\n",
    "�\n",
    "�\n",
    "X \n",
    "i\n",
    "​\n",
    "  and \n",
    "�\n",
    "�\n",
    "Y \n",
    "i\n",
    "​\n",
    "  are individual data points.\n",
    "�\n",
    "ˉ\n",
    "X\n",
    "ˉ\n",
    "  and \n",
    "�\n",
    "ˉ\n",
    "Y\n",
    "ˉ\n",
    "  are the means of variables X and Y, respectively.\n",
    "Now, let's interpret the result:\n",
    "\n",
    "If \n",
    "�\n",
    "=\n",
    "1\n",
    "r=1: Perfect positive correlation. As the amount of time spent studying increases, final exam scores also increase.\n",
    "\n",
    "If \n",
    "�\n",
    "=\n",
    "−\n",
    "1\n",
    "r=−1: Perfect negative correlation. As the amount of time spent studying increases, final exam scores decrease.\n",
    "\n",
    "If \n",
    "�\n",
    "=\n",
    "0\n",
    "r=0: No linear correlation. There is no linear relationship between the amount of time spent studying and final exam scores.\n",
    "\n",
    "If \n",
    "−\n",
    "1\n",
    "<\n",
    "�\n",
    "<\n",
    "0\n",
    "−1<r<0: Negative correlation. An increase in the amount of time spent studying tends to be associated with a decrease in final exam scores.\n",
    "\n",
    "If \n",
    "0\n",
    "<\n",
    "�\n",
    "<\n",
    "1\n",
    "0<r<1: Positive correlation. An increase in the amount of time spent studying tends to be associated with an increase in final exam scores.\n",
    "\n",
    "To calculate the Pearson correlation coefficient in Python, you can use the pearsonr function from the scipy.stats module. Here's an example:"
   ]
  },
  {
   "cell_type": "code",
   "execution_count": 1,
   "id": "3b1bd7cc",
   "metadata": {},
   "outputs": [
    {
     "name": "stdout",
     "output_type": "stream",
     "text": [
      "Pearson correlation coefficient: 0.9912407071619302\n",
      "P-value: 0.0009828018977194584\n"
     ]
    }
   ],
   "source": [
    "import scipy.stats\n",
    "\n",
    "# Sample data\n",
    "time_spent_studying = [10, 20, 15, 25, 30]\n",
    "final_exam_scores = [50, 60, 55, 70, 75]\n",
    "\n",
    "# Calculate Pearson correlation coefficient and p-value\n",
    "correlation_coefficient, p_value = scipy.stats.pearsonr(time_spent_studying, final_exam_scores)\n",
    "\n",
    "# Print the result\n",
    "print(f\"Pearson correlation coefficient: {correlation_coefficient}\")\n",
    "print(f\"P-value: {p_value}\")\n"
   ]
  },
  {
   "cell_type": "markdown",
   "id": "cab9a83d",
   "metadata": {},
   "source": [
    "Interpretation:\n",
    "\n",
    "If the Pearson correlation coefficient is close to 1, it suggests a positive linear correlation, indicating that as the amount of time spent studying increases, final exam scores tend to increase.\n",
    "If the coefficient is close to -1, it suggests a negative linear correlation, indicating that as the amount of time spent studying increases, final exam scores tend to decrease.\n",
    "If the coefficient is close to 0, it suggests no strong linear correlation between the variables.\n",
    "Keep in mind that correlation does not imply causation, and other factors could influence the relationship between the variables. Additionally, the p-value helps assess the statistical significance of the correlation. If the p-value is below a chosen significance level (e.g., 0.05), you might reject the null hypothesis that the correlation is zero."
   ]
  },
  {
   "cell_type": "markdown",
   "id": "e006afc6",
   "metadata": {},
   "source": [
    "### Q2. Spearman's rank correlation is a measure of the monotonic relationship between two variables. Suppose you have collected data on the amount of sleep individuals get each night and their overall job satisfaction level on a scale of 1 to 10. Calculate the Spearman's rank correlation between these two variables and interpret the result.\n",
    "### Answer : "
   ]
  },
  {
   "cell_type": "markdown",
   "id": "57b2f8ba",
   "metadata": {},
   "source": [
    "Spearman's rank correlation is a non-parametric measure of the monotonic relationship between two variables. It assesses whether there is a consistent increase or decrease in one variable corresponding to the increase or decrease in another variable.\n",
    "\n",
    "The formula for Spearman's rank correlation involves ranking the data and calculating the Pearson correlation coefficient for the ranked data.\n",
    "\n",
    "Here's the general procedure:\n",
    "\n",
    "Rank the data for each variable.\n",
    "Calculate the differences in ranks (\n",
    "�\n",
    "d) for each pair of data points.\n",
    "Square the differences in ranks (\n",
    "�\n",
    "2\n",
    "d \n",
    "2\n",
    " ).\n",
    "Sum up the squared differences in ranks (\n",
    "∑\n",
    "�\n",
    "2\n",
    "∑d \n",
    "2\n",
    " ).\n",
    "Use the formula for Spearman's rank correlation:\n",
    "Spearman’s rank correlation coefficient\n",
    "(\n",
    "�\n",
    ")\n",
    "=\n",
    "1\n",
    "−\n",
    "6\n",
    "∑\n",
    "�\n",
    "2\n",
    "�\n",
    "(\n",
    "�\n",
    "2\n",
    "−\n",
    "1\n",
    ")\n",
    "Spearman’s rank correlation coefficient(ρ)=1− \n",
    "n(n \n",
    "2\n",
    " −1)\n",
    "6∑d \n",
    "2\n",
    " \n",
    "​\n",
    " \n",
    "\n",
    "Where \n",
    "�\n",
    "n is the number of data points.\n",
    "\n",
    "Now, let's interpret the result:\n",
    "\n",
    "If \n",
    "�\n",
    "=\n",
    "1\n",
    "ρ=1: Perfect monotonic positive correlation. As the amount of sleep increases, job satisfaction levels consistently increase.\n",
    "\n",
    "If \n",
    "�\n",
    "=\n",
    "−\n",
    "1\n",
    "ρ=−1: Perfect monotonic negative correlation. As the amount of sleep increases, job satisfaction levels consistently decrease.\n",
    "\n",
    "If \n",
    "�\n",
    "=\n",
    "0\n",
    "ρ=0: No monotonic correlation. There is no consistent increase or decrease in job satisfaction levels corresponding to the increase or decrease in the amount of sleep.\n",
    "\n",
    "To calculate Spearman's rank correlation in Python, you can use the spearmanr function from the scipy.stats module. Here's an example:"
   ]
  },
  {
   "cell_type": "code",
   "execution_count": 2,
   "id": "3748e468",
   "metadata": {},
   "outputs": [
    {
     "name": "stdout",
     "output_type": "stream",
     "text": [
      "Spearman's rank correlation coefficient: 0.8999999999999998\n",
      "P-value: 0.03738607346849874\n"
     ]
    }
   ],
   "source": [
    "import scipy.stats\n",
    "\n",
    "# Sample data\n",
    "amount_of_sleep = [8, 6, 7, 5, 9]\n",
    "job_satisfaction = [9, 6, 7, 5, 8]\n",
    "\n",
    "# Calculate Spearman's rank correlation coefficient and p-value\n",
    "correlation_coefficient, p_value = scipy.stats.spearmanr(amount_of_sleep, job_satisfaction)\n",
    "\n",
    "# Print the result\n",
    "print(f\"Spearman's rank correlation coefficient: {correlation_coefficient}\")\n",
    "print(f\"P-value: {p_value}\")\n"
   ]
  },
  {
   "cell_type": "markdown",
   "id": "526da34c",
   "metadata": {},
   "source": [
    "Interpretation:\n",
    "\n",
    "If the Spearman's rank correlation coefficient is close to 1, it suggests a strong monotonic positive correlation, indicating that as the amount of sleep increases, job satisfaction tends to increase.\n",
    "If the coefficient is close to -1, it suggests a strong monotonic negative correlation, indicating that as the amount of sleep increases, job satisfaction tends to decrease.\n",
    "If the coefficient is close to 0, it suggests no strong monotonic correlation between the variables."
   ]
  },
  {
   "cell_type": "markdown",
   "id": "e0301358",
   "metadata": {},
   "source": [
    "### Q3. Suppose you are conducting a study to examine the relationship between the number of hours of exercise per week and body mass index (BMI) in a sample of adults. You collected data on both variables for 50 participants. Calculate the Pearson correlation coefficient and the Spearman's rank correlation between these two variables and compare the results.\n",
    "### Answer : "
   ]
  },
  {
   "cell_type": "markdown",
   "id": "f2e8bcae",
   "metadata": {},
   "source": [
    "To calculate both the Pearson correlation coefficient and the Spearman's rank correlation coefficient between two variables in Python, you can use the pearsonr and spearmanr functions from the scipy.stats module. Here's an example:"
   ]
  },
  {
   "cell_type": "code",
   "execution_count": 3,
   "id": "97c1ccb2",
   "metadata": {},
   "outputs": [
    {
     "name": "stdout",
     "output_type": "stream",
     "text": [
      "Pearson correlation coefficient: 0.9824862856426249\n",
      "P-value for Pearson correlation: 1.0978478579612518e-36\n",
      "\n",
      "Spearman's rank correlation coefficient: 0.9799851368113001\n",
      "P-value for Spearman's rank correlation: 2.629237363661562e-35\n"
     ]
    }
   ],
   "source": [
    "import scipy.stats\n",
    "import numpy as np\n",
    "\n",
    "# Sample data\n",
    "hours_of_exercise = [2, 4, 3, 5, 1, 3, 2, 6, 4, 5,\n",
    "                     3, 1, 2, 4, 5, 3, 1, 6, 2, 4,\n",
    "                     3, 5, 1, 2, 4, 6, 3, 5, 1, 2,\n",
    "                     4, 6, 3, 5, 2, 1, 4, 6, 3, 5,\n",
    "                     2, 1, 4, 6, 3, 5, 2, 1, 4, 6]\n",
    "\n",
    "bmi = [22.5, 24.3, 23.0, 25.8, 21.2, 22.7, 21.0, 26.4, 24.0, 25.5,\n",
    "       23.3, 20.8, 21.5, 24.1, 26.2, 22.9, 20.5, 26.9, 21.8, 24.6,\n",
    "       23.4, 26.0, 20.3, 22.0, 24.7, 27.3, 22.8, 26.1, 20.6, 23.1,\n",
    "       25.0, 27.4, 23.5, 25.9, 21.9, 20.4, 24.8, 27.5, 23.6, 26.3,\n",
    "       21.1, 20.7, 24.9, 27.6, 23.7, 26.5, 21.3, 20.9, 25.1, 27.7]\n",
    "\n",
    "# Calculate Pearson correlation coefficient and p-value\n",
    "pearson_coefficient, pearson_p_value = scipy.stats.pearsonr(hours_of_exercise, bmi)\n",
    "\n",
    "# Calculate Spearman's rank correlation coefficient and p-value\n",
    "spearman_coefficient, spearman_p_value = scipy.stats.spearmanr(hours_of_exercise, bmi)\n",
    "\n",
    "# Print the results\n",
    "print(f\"Pearson correlation coefficient: {pearson_coefficient}\")\n",
    "print(f\"P-value for Pearson correlation: {pearson_p_value}\")\n",
    "print()\n",
    "print(f\"Spearman's rank correlation coefficient: {spearman_coefficient}\")\n",
    "print(f\"P-value for Spearman's rank correlation: {spearman_p_value}\")\n"
   ]
  },
  {
   "cell_type": "markdown",
   "id": "4cb85154",
   "metadata": {},
   "source": [
    "Interpretation:\n",
    "\n",
    "Pearson correlation coefficient (\n",
    "�\n",
    "r):\n",
    "\n",
    "The Pearson correlation coefficient measures the strength and direction of a linear relationship between two continuous variables.\n",
    "If \n",
    "�\n",
    "r is close to 1, it suggests a strong positive linear correlation (more exercise associated with higher BMI).\n",
    "If \n",
    "�\n",
    "r is close to -1, it suggests a strong negative linear correlation (more exercise associated with lower BMI).\n",
    "If \n",
    "�\n",
    "r is close to 0, it suggests a weak or no linear correlation.\n",
    "Spearman's rank correlation coefficient (\n",
    "�\n",
    "ρ):\n",
    "\n",
    "The Spearman's rank correlation coefficient assesses the monotonic relationship between two variables, not necessarily linear.\n",
    "�\n",
    "ρ close to 1 suggests a strong monotonic positive correlation.\n",
    "�\n",
    "ρ close to -1 suggests a strong monotonic negative correlation.\n",
    "�\n",
    "ρ close to 0 suggests no strong monotonic correlation.\n",
    "Both coefficients provide insights into the relationship between the number of hours of exercise per week and BMI, but they capture different aspects of the relationship. The choice between Pearson and Spearman depends on the characteristics of the data and the underlying assumptions. If the relationship is linear and there are no outliers, Pearson correlation may be appropriate. If the relationship is monotonic but not necessarily linear, or if there are outliers, Spearman's rank correlation may be more suitable.\n",
    "\n",
    "\n",
    "\n",
    "\n"
   ]
  },
  {
   "cell_type": "markdown",
   "id": "edc6febe",
   "metadata": {},
   "source": [
    "### Q4. A researcher is interested in examining the relationship between the number of hours individuals spend watching television per day and their level of physical activity. The researcher collected data on both variables from a sample of 50 participants. Calculate the Pearson correlation coefficient between these two variables.\n",
    "### Answer : "
   ]
  },
  {
   "cell_type": "markdown",
   "id": "8dc50d79",
   "metadata": {},
   "source": [
    "To calculate the Pearson correlation coefficient between two variables in Python, you can use the pearsonr function from the scipy.stats module. Here's an example:"
   ]
  },
  {
   "cell_type": "code",
   "execution_count": 4,
   "id": "b826f741",
   "metadata": {},
   "outputs": [
    {
     "name": "stdout",
     "output_type": "stream",
     "text": [
      "Pearson correlation coefficient: -0.6181524452929946\n",
      "P-value for Pearson correlation: 1.7246224905446894e-06\n"
     ]
    }
   ],
   "source": [
    "import scipy.stats\n",
    "import numpy as np\n",
    "\n",
    "# Sample data\n",
    "hours_of_tv_per_day = [2, 4, 3, 5, 1, 3, 2, 6, 4, 5,\n",
    "                       3, 1, 2, 4, 5, 3, 1, 6, 2, 4,\n",
    "                       3, 5, 1, 2, 4, 6, 3, 5, 1, 2,\n",
    "                       4, 6, 3, 5, 2, 1, 4, 6, 3, 5,\n",
    "                       2, 1, 4, 6, 3, 5, 2, 1, 4, 6]\n",
    "\n",
    "physical_activity_level = [3, 5, 4, 2, 6, 3, 4, 1, 5, 2,\n",
    "                            4, 6, 5, 3, 2, 4, 1, 6, 3, 5,\n",
    "                            4, 2, 6, 5, 3, 1, 4, 2, 6, 5,\n",
    "                            3, 1, 2, 4, 5, 6, 3, 1, 2, 4,\n",
    "                            5, 6, 3, 1, 2, 4, 5, 6, 1, 3]\n",
    "\n",
    "# Calculate Pearson correlation coefficient and p-value\n",
    "pearson_coefficient, pearson_p_value = scipy.stats.pearsonr(hours_of_tv_per_day, physical_activity_level)\n",
    "\n",
    "# Print the result\n",
    "print(f\"Pearson correlation coefficient: {pearson_coefficient}\")\n",
    "print(f\"P-value for Pearson correlation: {pearson_p_value}\")\n"
   ]
  },
  {
   "cell_type": "markdown",
   "id": "1c2f3db4",
   "metadata": {},
   "source": [
    "Interpretation:\n",
    "\n",
    "The Pearson correlation coefficient (\n",
    "�\n",
    "r) measures the strength and direction of a linear relationship between two continuous variables.\n",
    "If \n",
    "�\n",
    "r is close to 1, it suggests a strong positive linear correlation (more hours of TV associated with higher physical activity level).\n",
    "If \n",
    "�\n",
    "r is close to -1, it suggests a strong negative linear correlation (more hours of TV associated with lower physical activity level).\n",
    "If \n",
    "�\n",
    "r is close to 0, it suggests a weak or no linear correlation.\n",
    "Keep in mind that correlation does not imply causation, and other factors may influence the relationship between the number of hours individuals spend watching television per day and their level of physical activity. Additionally, the interpretation should consider the context of the study and potential confounding variables.\n",
    "\n",
    "\n",
    "\n",
    "\n"
   ]
  },
  {
   "cell_type": "markdown",
   "id": "1159f618",
   "metadata": {},
   "source": [
    "### Q5. A survey was conducted to examine the relationship between age and preference for a particular brand of soft drink. The survey results are shown below:\n",
    "Age(Years)\n",
    "25 \n",
    "42 \n",
    "37\n",
    "19\n",
    "31\n",
    "28 , \n",
    "Soft drink Preference,\n",
    "Coke\n",
    "pepsi\n",
    "Mountain dew\n",
    "Coke\n",
    "Pepsi\n",
    "Coke\n",
    "\n",
    "### Answer : "
   ]
  },
  {
   "cell_type": "code",
   "execution_count": 5,
   "id": "3e16278a",
   "metadata": {},
   "outputs": [
    {
     "name": "stdout",
     "output_type": "stream",
     "text": [
      "Spearman's rank correlation coefficient: 0.8332380897952965\n",
      "P-value for Spearman's rank correlation: 0.03939551647885117\n"
     ]
    },
    {
     "name": "stderr",
     "output_type": "stream",
     "text": [
      "C:\\Users\\Kalyanam\\anaconda3\\lib\\site-packages\\scipy\\stats\\_stats_py.py:110: RuntimeWarning: The input array could not be properly checked for nan values. nan values will be ignored.\n",
      "  warnings.warn(\"The input array could not be properly \"\n"
     ]
    }
   ],
   "source": [
    "import scipy.stats\n",
    "\n",
    "# Organize the data\n",
    "ages = [25, 42, 37, 19, 31, 28]\n",
    "preferences = ['Coke', 'Pepsi', 'Mountain Dew', 'Coke', 'Pepsi', 'Coke']\n",
    "\n",
    "# Calculate Spearman's rank correlation coefficient\n",
    "spearman_coefficient, spearman_p_value = scipy.stats.spearmanr(ages, preferences)\n",
    "\n",
    "# Print the result\n",
    "print(f\"Spearman's rank correlation coefficient: {spearman_coefficient}\")\n",
    "print(f\"P-value for Spearman's rank correlation: {spearman_p_value}\")\n"
   ]
  },
  {
   "cell_type": "markdown",
   "id": "2173f1b7",
   "metadata": {},
   "source": [
    "The Spearman's rank correlation coefficient assesses the monotonic relationship between age (treated as ranks) and soft drink preferences. A positive coefficient indicates a tendency for older individuals to prefer one soft drink over another, while a negative coefficient suggests the opposite. The p-value helps assess the statistical significance of the correlation.\n",
    "\n",
    "Keep in mind that the interpretation might be limited due to the small dataset, and it's crucial to consider the context of the study. If your dataset is more extensive, you may obtain more meaningful insights into the relationship between age and soft drink preferences."
   ]
  },
  {
   "cell_type": "markdown",
   "id": "1fefd33f",
   "metadata": {},
   "source": [
    "### Q6. A company is interested in examining the relationship between the number of sales calls made per day and the number of sales made per week. The company collected data on both variables from a sample of 30 sales representatives. Calculate the Pearson correlation coefficient between these two variables.\n",
    "### Answer : "
   ]
  },
  {
   "cell_type": "markdown",
   "id": "7b395398",
   "metadata": {},
   "source": [
    "To calculate the Pearson correlation coefficient between the number of sales calls made per day and the number of sales made per week in Python, you can use the pearsonr function from the scipy.stats module. Here's an example assuming you have the data in two lists:"
   ]
  },
  {
   "cell_type": "code",
   "execution_count": 6,
   "id": "cc5f2a2c",
   "metadata": {},
   "outputs": [
    {
     "name": "stdout",
     "output_type": "stream",
     "text": [
      "Pearson correlation coefficient: 0.966652812140856\n",
      "P-value for Pearson correlation: 4.199715947056649e-18\n"
     ]
    }
   ],
   "source": [
    "import scipy.stats\n",
    "\n",
    "# Sample data\n",
    "sales_calls_per_day = [20, 25, 30, 15, 18, 22, 27, 35, 28, 32,\n",
    "                        16, 21, 24, 19, 23, 26, 29, 31, 17, 14,\n",
    "                        33, 18, 20, 25, 27, 30, 22, 24, 16, 19]\n",
    "\n",
    "sales_per_week = [150, 200, 250, 120, 160, 180, 210, 280, 240, 270,\n",
    "                   130, 190, 220, 170, 200, 230, 260, 300, 140, 110,\n",
    "                   320, 160, 180, 210, 240, 260, 200, 220, 150, 170]\n",
    "\n",
    "# Calculate Pearson correlation coefficient and p-value\n",
    "pearson_coefficient, pearson_p_value = scipy.stats.pearsonr(sales_calls_per_day, sales_per_week)\n",
    "\n",
    "# Print the result\n",
    "print(f\"Pearson correlation coefficient: {pearson_coefficient}\")\n",
    "print(f\"P-value for Pearson correlation: {pearson_p_value}\")\n"
   ]
  },
  {
   "cell_type": "markdown",
   "id": "aba4832a",
   "metadata": {},
   "source": [
    "Interpretation:\n",
    "\n",
    "The Pearson correlation coefficient (\n",
    "�\n",
    "r) measures the strength and direction of a linear relationship between two continuous variables.\n",
    "If \n",
    "�\n",
    "r is close to 1, it suggests a strong positive linear correlation (more sales calls per day associated with more sales per week).\n",
    "If \n",
    "�\n",
    "r is close to -1, it suggests a strong negative linear correlation (more sales calls per day associated with fewer sales per week).\n",
    "If \n",
    "�\n",
    "r is close to 0, it suggests a weak or no linear correlation.\n",
    "Keep in mind that correlation does not imply causation, and other factors may influence the relationship between the number of sales calls made per day and the number of sales made per week. Additionally, the interpretation should consider the context of the sales process and other relevant factors.\n",
    "\n",
    "\n",
    "\n",
    "\n"
   ]
  },
  {
   "cell_type": "code",
   "execution_count": null,
   "id": "aaeb2d45",
   "metadata": {},
   "outputs": [],
   "source": []
  },
  {
   "cell_type": "code",
   "execution_count": null,
   "id": "d853fdd0",
   "metadata": {},
   "outputs": [],
   "source": []
  }
 ],
 "metadata": {
  "kernelspec": {
   "display_name": "Python 3 (ipykernel)",
   "language": "python",
   "name": "python3"
  },
  "language_info": {
   "codemirror_mode": {
    "name": "ipython",
    "version": 3
   },
   "file_extension": ".py",
   "mimetype": "text/x-python",
   "name": "python",
   "nbconvert_exporter": "python",
   "pygments_lexer": "ipython3",
   "version": "3.9.13"
  }
 },
 "nbformat": 4,
 "nbformat_minor": 5
}
